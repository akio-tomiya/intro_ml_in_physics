{
  "nbformat": 4,
  "nbformat_minor": 0,
  "metadata": {
    "colab": {
      "name": "ising_heatbath_book.ipynb",
      "provenance": [],
      "collapsed_sections": []
    },
    "kernelspec": {
      "name": "python3",
      "display_name": "Python 3"
    }
  },
  "cells": [
    {
      "cell_type": "markdown",
      "metadata": {
        "id": "XzeD4OtfAzHS"
      },
      "source": [
        "「これならわかる機械学習入門」用、熱浴法のコード\n",
        "- 富谷 昭夫 (著)\n",
        "- KS物理専門書\n",
        "- 2021/3/29"
      ]
    },
    {
      "cell_type": "code",
      "metadata": {
        "id": "C_aPxHgKuRjl"
      },
      "source": [
        "# 2d Ising model\n",
        "import math\n",
        "import random\n",
        "import matplotlib.pyplot as plt\n",
        "import numpy as np\n",
        "# tqdm はプログレスバーを表示するためのライブラリ\n",
        "from tqdm. notebook import tqdm\n",
        "\n",
        "# 周期的境界条件を考慮してサイトの移動を管理\n",
        "def xup(x):\n",
        "  x+=1\n",
        "  if x>=L[0]:\n",
        "    x-=L[0] \n",
        "  return x\n",
        "def yup(y): \n",
        "  y+=1\n",
        "  if y>=L[1]:\n",
        "    y-=L[1] \n",
        "  return y\n",
        "def xdn(x):\n",
        "  x-=1\n",
        "  if x<0:\n",
        "    x+=L[0]\n",
        "  return x\n",
        "def ydn(y):\n",
        "  y-=1\n",
        "  if y<0:\n",
        "    y+=L[1]\n",
        "  return y\n",
        "\n",
        "# ある点 (x,y)の上下左右のスピンを合計する\n",
        "def spin_sum(sc,x,y):\n",
        "  h=0\n",
        "  h+=sc[xup(x)][y]\n",
        "  h+=sc[xdn(x)][y]\n",
        "  h+=sc[x][yup(y)]\n",
        "  h+=sc[x][ydn(y)]\n",
        "  return h\n",
        "\n",
        "# ある点 (x,y)の熱浴法を行う\n",
        "def heatbath_local(beta,hz,sc,x,y):\n",
        "  h = spin_sum(sc,x,y)-hz\n",
        "  # このサイトが次に s=+1 となる確率を計算する \n",
        "  p = math.exp(beta*h)/(math.exp(beta*h) + math.exp(-beta*h))\n",
        "  r = random.random()\n",
        "  # 確率に基づいてランダムにs を決定する \n",
        "  if r < p: # success\n",
        "    sc[x][y]=1\n",
        "  else:\n",
        "    sc[x][y]=-1\n",
        "  return sc\n",
        "\n",
        "# すべての (x,y)に対して熱浴法を行う \n",
        "def heatbath(beta,hz,sc):\n",
        "  xlist = list(range(L[0]) ) \n",
        "  random.shuffle(xlist) \n",
        "  ylist = list(range(L[1]) ) \n",
        "  random.shuffle(ylist) \n",
        "  for x in xlist:\n",
        "    for y in ylist:\n",
        "      sc = heatbath_local(beta,hz,sc,x,y)\n",
        "  return sc\n",
        "\n",
        "# 磁化率を計算する\n",
        "def magnetization (sc):\n",
        "  m=0\n",
        "  for x in range(L[0]):\n",
        "    for y in range(L[1]):\n",
        "      m+=sc[x][y]\n",
        "  return m/(L[0]*L[1])\n",
        "\n",
        "# モンテカルロ法の初期配位をセットする \n",
        "def init_conf_cold():\n",
        "  sc = [[1]*L[1] for i in range(L[0])]\n",
        "  return sc\n",
        "\n",
        "def init_conf(init=\"cold\"):\n",
        "  sc = init_conf_cold()\n",
        "  if init==\"cold\":\n",
        "    return sc\n",
        "  for x in range(L[0]): \n",
        "    for y in range(L[1]): \n",
        "      r = random.random() \n",
        "      if r<0.5:\n",
        "        sc[x][y]=1\n",
        "      else:\n",
        "        sc[x][y]=-1\n",
        "  return sc\n"
      ],
      "execution_count": null,
      "outputs": []
    },
    {
      "cell_type": "code",
      "metadata": {
        "id": "2RW1P1nvvhLy"
      },
      "source": [
        "L = [32,32]\n",
        "beta = 0.440687 \n",
        "hz=0.0\n",
        "Nsweep = 10**3\n",
        "#\n",
        "sc = init_conf()\n",
        "mctime=[];mag_hist=[]\n",
        "for isweep in tqdm(range(Nsweep)):\n",
        "  sc = heatbath(beta,hz,sc)\n",
        "  mag=magnetization(sc)\n",
        "  mctime.append(isweep)\n",
        "  mag_hist.append(mag)\n",
        "plt.plot(mctime,mag_hist)\n",
        "plt.ylim([-1.1,1.1])\n",
        "plt.xlabel(\"MC time\")\n",
        "plt.ylabel(\"magnetization\")\n",
        "plt.show()"
      ],
      "execution_count": null,
      "outputs": []
    },
    {
      "cell_type": "code",
      "metadata": {
        "id": "nw1wVXt8yKBh"
      },
      "source": [
        "N_dis=10**2 # 捨てる個数\n",
        "N_trj=10**3+N_dis # トータルのアップデート回数\n",
        "N_sav=10 # アップデート 10回ごとに配位を保存\n",
        "prm_list = [\n",
        "# beta, #of_trj, #of_discard, file_name, save_every\n",
        "  [0.90, N_trj, N_dis,\"conf/L32b090_\", N_sav],\n",
        "  [0.85, N_trj, N_dis,\"conf/L32b085_\", N_sav],\n",
        "  [0.80, N_trj, N_dis,\"conf/L32b080_\", N_sav],\n",
        "  [0.70, N_trj, N_dis,\"conf/L32b070_\", N_sav],\n",
        "  [0.65, N_trj, N_dis,\"conf/L32b065_\", N_sav],\n",
        "  [0.60, N_trj, N_dis,\"conf/L32b060_\", N_sav],\n",
        "  [0.55, N_trj, N_dis,\"conf/L32b055_\", N_sav],\n",
        "  [0.50, N_trj, N_dis,\"conf/L32b050_\", N_sav], \n",
        "  [0.47, N_trj, N_dis,\"conf/L32b047_\", N_sav], \n",
        "  [0.42, N_trj, N_dis,\"conf/L32b042_\", N_sav], \n",
        "  [0.40, N_trj, N_dis,\"conf/L32b040_\", N_sav], \n",
        "  [0.35, N_trj, N_dis,\"conf/L32b035_\", N_sav], \n",
        "  [0.30, N_trj, N_dis,\"conf/L32b030_\", N_sav], \n",
        "  [0.25, N_trj, N_dis,\"conf/L32b025_\", N_sav], \n",
        "  [0.20, N_trj, N_dis,\"conf/L32b020_\", N_sav], \n",
        "  [0.15, N_trj, N_dis,\"conf/L32b015_\", N_sav], \n",
        "  [0.10, N_trj, N_dis,\"conf/L32b010_\", N_sav], \n",
        "  [0.05, N_trj, N_dis,\"conf/L32b005_\", N_sav], \n",
        "  [0.00, N_trj, N_dis,\"conf/L32b000_\", N_sav] \n",
        "  ]"
      ],
      "execution_count": null,
      "outputs": []
    },
    {
      "cell_type": "code",
      "metadata": {
        "id": "Q788XaDZyyrN"
      },
      "source": [
        "# conf ディレクトリがなければ作る\n",
        "import os\n",
        "os.makedirs(\"conf\", exist_ok = True)\n",
        "#\n",
        "L = [32,32] # 格子サイズの設定\n",
        "hz = -0.0005 # 相転移を見るために非常に弱い磁場を添加\n",
        "\n",
        "nprm=len(prm_list) # パラメータリストの長さを調べる\n",
        "betas = []\n",
        "mags = []\n",
        "mags_er = []\n",
        "#\n",
        "random.seed(12345)\n",
        "sc = init_conf()\n",
        "# 各ベータごとにパラメータを読み出して配位を作る\n",
        "for ibeta in range(nprm):\n",
        "  beta = prm_list[ibeta][0]\n",
        "  Nsweep = prm_list[ibeta][1]\n",
        "  Ndiscard = prm_list[ibeta][2]\n",
        "  fname = prm_list[ibeta][3]\n",
        "  save_every = prm_list[ibeta][4]\n",
        "  conf_cnt = 0\n",
        "#\n",
        "  print(f\"beta={beta} {Nsweep}\")\n",
        "  mag_hist=[]\n",
        "  # 熱浴法で配位を作る\n",
        "  for isweep in tqdm(range(Nsweep)):\n",
        "    sc = heatbath(beta,hz,sc)\n",
        "    mag=magnetization(sc)\n",
        "    mag_hist.append(mag)\n",
        "    if (isweep%save_every == 0)&(isweep>=Ndiscard):\n",
        "      scn = np.array(sc)\n",
        "      np.save(f\"{fname}{conf_cnt}\",scn)\n",
        "      conf_cnt+=1\n",
        "  #\n",
        "  print(\"\")\n",
        "  mag_hist=np.array(mag_hist[Ndiscard:])\n",
        "  mag = np.mean(mag_hist)\n",
        "  mag_er = np.std(mag_hist)/np.sqrt(len(mag_hist)-1) #\n",
        "  betas.append(beta)\n",
        "  mags.append(mag)\n",
        "  mags_er.append(mag_er)\n",
        "  #\n",
        "plt.xlabel(r\"$\\beta$\")\n",
        "plt.ylabel(\"magnetization\")\n",
        "plt.errorbar(betas,mags,yerr=mags_er)\n",
        "plt.show()"
      ],
      "execution_count": null,
      "outputs": []
    },
    {
      "cell_type": "markdown",
      "metadata": {
        "id": "qjSkWfsl021F"
      },
      "source": [
        "# 前処理"
      ]
    },
    {
      "cell_type": "code",
      "metadata": {
        "id": "9lBNv_pAziYf"
      },
      "source": [
        "nconf = 100 # 各ベータでの配位の数\n",
        "betacr = 0.440686 # 正方イジング模型の相転移温度\n",
        "#\n",
        "data = []\n",
        "labels = []\n",
        "betas = []\n",
        "nprm=len(prm_list)\n",
        "for ibeta in range(nprm):\n",
        "  beta = prm_list[ibeta][0]\n",
        "  fname = prm_list[ibeta][3]\n",
        "  for itrj in range(nconf):\n",
        "    npsc = np.load(f\"{fname}{itrj}.npy\")\n",
        "    data.append(npsc)\n",
        "    if beta > betacr:\n",
        "      labels.append([0,1]) # 低温相の one-hot ベクトル \n",
        "    else:\n",
        "      labels.append([1,0]) # 高温相の one-hot ベクトル \n",
        "    betas.append(beta)\n",
        "data = np.array(data)\n",
        "labels = np.array(labels)\n",
        "#\n",
        "train_data=data[0::2]\n",
        "train_labels=labels[0::2] \n",
        "train_betas=betas[0::2]  \n",
        "#\n",
        "val_data=data[1::2]\n",
        "val_labels=labels[1::2] \n",
        "val_betas=betas[1::2]"
      ],
      "execution_count": null,
      "outputs": []
    },
    {
      "cell_type": "code",
      "metadata": {
        "id": "zxBwarbs0VNJ"
      },
      "source": [
        "print(\"train_data.shape = \", train_data.shape) \n",
        "print(\"val_data.shape = \", val_data.shape)\n",
        "# train_data.shape = (950, 32, 32)\n",
        "# val_data.shape = (950, 32, 32)"
      ],
      "execution_count": null,
      "outputs": []
    },
    {
      "cell_type": "code",
      "metadata": {
        "id": "BRqU4g6V2-CL"
      },
      "source": [
        ""
      ],
      "execution_count": null,
      "outputs": []
    }
  ]
}